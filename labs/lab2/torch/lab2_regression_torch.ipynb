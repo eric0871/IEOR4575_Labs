{
 "cells": [
  {
   "cell_type": "markdown",
   "id": "abandoned-geometry",
   "metadata": {},
   "source": [
    "## Introduction to Deep Learning with PyTorch\n",
    "\n",
    "This notebook will walk through the procedure of developing a neural network to solve a supervised learning problem with PyTorch. Let's begin with an example of a regression problem:"
   ]
  },
  {
   "cell_type": "markdown",
   "id": "widespread-influence",
   "metadata": {},
   "source": [
    "## Toy Example\n",
    "The requirements are the following:\n",
    "\n",
    "1. A dataset D = {$(x_1,y_1), (x_2,y_2), ..., (x_N, y_N)$} \n",
    "2. A parametric model f with a specified model architecture (i.e. the functional form of f).\n",
    "3. A loss function that evaluates the error in the outputs (predictions) of the model with respect to the ground truth labels y from the dataset D"
   ]
  },
  {
   "cell_type": "code",
   "execution_count": 1,
   "id": "casual-alpha",
   "metadata": {},
   "outputs": [],
   "source": [
    "import torch\n",
    "import matplotlib.pyplot as plt"
   ]
  },
  {
   "cell_type": "markdown",
   "id": "suitable-mason",
   "metadata": {},
   "source": [
    "### Dataset\n",
    "Let's collect a dataset of x,y samples where: $$y = 3x^2 + x - 2$$\n",
    "\n",
    "$$X = [x_1, x_2, x_3, ..., x_N]^T$$\n",
    "$$Y = [y_1, y_2, y_3, ..., y_N]^T$$ \n",
    "\n",
    "1. $x_i$ is a real value, so X has dimensions Nx1\n",
    "2. $y_i$ is a real value, so Y has dimensions Nx1"
   ]
  },
  {
   "cell_type": "code",
   "execution_count": 2,
   "id": "satellite-vocabulary",
   "metadata": {
    "scrolled": true
   },
   "outputs": [
    {
     "name": "stdout",
     "output_type": "stream",
     "text": [
      "torch.Size([10000, 1]) torch.Size([10000, 1])\n"
     ]
    }
   ],
   "source": [
    "x = torch.linspace(start=-1, end=1, steps=10000).unsqueeze(1)  # 10000 equally spaced values between [-1, 1]\n",
    "y = 3*x**2 + x - 2\n",
    "\n",
    "print(x.shape, y.shape)"
   ]
  },
  {
   "cell_type": "code",
   "execution_count": 3,
   "id": "surprised-angle",
   "metadata": {},
   "outputs": [
    {
     "data": {
      "text/plain": [
       "<matplotlib.collections.PathCollection at 0x23552eeae10>"
      ]
     },
     "execution_count": 3,
     "metadata": {},
     "output_type": "execute_result"
    },
    {
     "data": {
      "image/png": "[encoded data removed]",
      "text/plain": [
       "<Figure size 432x288 with 1 Axes>"
      ]
     },
     "metadata": {
      "needs_background": "light"
     },
     "output_type": "display_data"
    }
   ],
   "source": [
    "# visualize the dataset\n",
    "plt.scatter(x, y)"
   ]
  },
  {
   "cell_type": "markdown",
   "id": "bottom-inspiration",
   "metadata": {},
   "source": [
    "### Model\n",
    "Let's define the model (i.e. the function f) that will map x to y. We assume that we do not know that y is a quadratic function of x. All we will assume is that x and y have a highly nonlinear relationship. Then, what should this function f be? A neural network, specifically a Multi-Layer Perceptron!"
   ]
  },
  {
   "cell_type": "markdown",
   "id": "extensive-essence",
   "metadata": {},
   "source": [
    "**Multi-Layer Perceptron (MLP)**\n",
    "\n",
    "MLP is a generic yet useful neural network model. Consider a MLP for regression task, where we want to learn a mapping $x \\in \\mathbb{R}^k \\mapsto y \\in \\mathbb{R}$. The input $x$ is $k$-dimensional and $y$ is scalar. The simplest regression model is linear model with parameter $w \\in \\mathbb{R}^k$ and $w_0 \\in \\mathbb{R}$, we can propose to predict $y$ as $y_{pred} = w^T x + w_0$.\n",
    "\n",
    "MLP is a generalization of linear regression. Consider a linear transformation by matrix $W_1\\in\\mathbb{R}^{k\\times l}$ and bias vector $b_1\\in \\mathbb{R}^l$:\n",
    "\n",
    "$$h_1 = x * W_1 + b_1$$\n",
    "\n",
    "In addition to linear transformation, apply a non-linear function $\\sigma(\\cdot)$ elementwise to the above hidden vector $h_1$\n",
    "\n",
    "$$z_1 = \\sigma (h_1) $$\n",
    "\n",
    "We have essentially generated a set of features $z_1$ from $x$. This set of features can be used as input to another linear model to predict $y$. Let us specify another set of parameter $W_2 \\in \\mathbb{R}^l, b_2 \\in \\mathbb{R}$. The prediction is:\n",
    "\n",
    "$$y_{pred} = z_1 * W_2 + b_2$$\n",
    "\n",
    "A input-output mapping from $x$ to $y_{pred}$ can be compactly written as below:\n",
    "\n",
    "$$y_{pred} = \\sigma(x * W_1 + b_1) * W_2 + b_2$$\n",
    "\n",
    "We have just defined a simplest MLP. In simple words, MLP is defined by alternately stacking linear mappings ($W_1,b_1$) and nonlinear function ($\\sigma(\\cdot)$). Now, instead of having parameter $w,w_0$ in linear model, we have parameters $W_1,b_1,W_2,b_2$ in our simple MLP. Though this inevitably introduces more parameters, the model becomes more expressive and powerful as well.\n",
    "\n",
    "We can define our model as: $$ f(x) = y_{pred} =  \\sigma(x * W_1 + b_1) * W_2 + b_2$$\n",
    "\n",
    "1. $x$ has dimension Nx1\n",
    "2. $W_1$ has dimension 1x100\n",
    "3. $b_1$ has dimension 1x1\n",
    "4. $W_2$ has dimension 100x1\n",
    "5. $b_2$ has dimension 1x1"
   ]
  },
  {
   "cell_type": "code",
   "execution_count": 4,
   "id": "boxed-romance",
   "metadata": {},
   "outputs": [],
   "source": [
    "model = torch.nn.Sequential(\n",
    "            torch.nn.Linear(1, 100),\n",
    "            torch.nn.ReLU(),\n",
    "            torch.nn.Linear(100, 1)\n",
    "        )\n",
    "\n",
    "optimizer = torch.optim.Adam(model.parameters(), lr=0.001)\n",
    "\n",
    "y_hat = model(x)"
   ]
  },
  {
   "cell_type": "code",
   "execution_count": 5,
   "id": "demographic-campaign",
   "metadata": {
    "scrolled": true
   },
   "outputs": [
    {
     "data": {
      "image/png": "[encoded data removed]",
      "text/plain": [
       "<Figure size 432x288 with 1 Axes>"
      ]
     },
     "metadata": {
      "needs_background": "light"
     },
     "output_type": "display_data"
    }
   ],
   "source": [
    "# visualize initial model predictions\n",
    "plt.scatter(x, y, label=\"ground-truth\")\n",
    "plt.scatter(x, y_hat.detach(), label=\"prediction\")\n",
    "plt.legend(loc=\"upper right\")\n",
    "plt.show()"
   ]
  },
  {
   "cell_type": "markdown",
   "id": "prescription-founder",
   "metadata": {},
   "source": [
    "### Loss\n",
    "For training, we need a loss function that will evaluate the quality of model predictions against ground truth labels y. \n",
    "\n",
    "Let's use $L(\\hat{y}, y) = (\\hat{y}-y)^2$. "
   ]
  },
  {
   "cell_type": "code",
   "execution_count": 6,
   "id": "unusual-honor",
   "metadata": {},
   "outputs": [
    {
     "name": "stdout",
     "output_type": "stream",
     "text": [
      "The average loss or error in the model's predictions compared to the ground truth is 1.8258\n"
     ]
    }
   ],
   "source": [
    "L = torch.mean(((y_hat-y)**2))\n",
    "print(\"The average loss or error in the model's predictions compared to the ground truth is %.4f\" % (L))"
   ]
  },
  {
   "cell_type": "markdown",
   "id": "miniature-pierce",
   "metadata": {},
   "source": [
    "### Optimization  (training)\n",
    "Now we will optimize our model f until the loss is below a threshold. We have already discussed the general recipe at the very beginning of this tutorial."
   ]
  },
  {
   "cell_type": "code",
   "execution_count": 7,
   "id": "surface-sentence",
   "metadata": {},
   "outputs": [],
   "source": [
    "alpha = 0.001\n",
    "error_tolerance = 0.01"
   ]
  },
  {
   "cell_type": "code",
   "execution_count": 8,
   "id": "valid-camel",
   "metadata": {},
   "outputs": [
    {
     "name": "stdout",
     "output_type": "stream",
     "text": [
      "1.8257842063903809\n",
      "1.7819448709487915\n",
      "1.7394676208496094\n",
      "1.6983556747436523\n",
      "1.6585896015167236\n",
      "1.6201529502868652\n",
      "1.583031177520752\n",
      "1.5472103357315063\n",
      "1.5126737356185913\n",
      "1.47939932346344\n",
      "1.4473614692687988\n",
      "1.416530966758728\n",
      "1.3868786096572876\n",
      "1.3583743572235107\n",
      "1.3309882879257202\n",
      "1.3046892881393433\n",
      "1.279444694519043\n",
      "1.2552201747894287\n",
      "1.2319797277450562\n",
      "1.2096856832504272\n",
      "1.188299298286438\n",
      "1.167781114578247\n",
      "1.148091435432434\n",
      "1.1291909217834473\n",
      "1.1110410690307617\n",
      "1.0936040878295898\n",
      "1.076839804649353\n",
      "1.0607081651687622\n",
      "1.0451732873916626\n",
      "1.0302000045776367\n",
      "1.0157557725906372\n",
      "1.0018093585968018\n",
      "0.9883312582969666\n",
      "0.975293755531311\n",
      "0.9626706838607788\n",
      "0.9504379034042358\n",
      "0.9385721683502197\n",
      "0.9270523190498352\n",
      "0.9158583283424377\n",
      "0.9049716591835022\n",
      "0.8943749070167542\n",
      "0.8840518593788147\n",
      "0.8739879131317139\n",
      "0.8641688227653503\n",
      "0.8545822501182556\n",
      "0.8452160954475403\n",
      "0.8360594511032104\n",
      "0.8271023631095886\n",
      "0.8183352947235107\n",
      "0.8097495436668396\n",
      "0.8013367652893066\n",
      "0.7930892705917358\n",
      "0.7849997282028198\n",
      "0.7770609855651855\n",
      "0.7692663669586182\n",
      "0.7616093158721924\n",
      "0.7540835738182068\n",
      "0.74668288230896\n",
      "0.7394013404846191\n",
      "0.7322329878807068\n",
      "0.7251721620559692\n",
      "0.7182132601737976\n",
      "0.711350679397583\n",
      "0.7045793533325195\n",
      "0.6978939175605774\n",
      "0.6912895441055298\n",
      "0.6847612261772156\n",
      "0.6783046126365662\n",
      "0.6719148755073547\n",
      "0.6655882596969604\n",
      "0.659320592880249\n",
      "0.6531080603599548\n",
      "0.6469473242759705\n",
      "0.6408348679542542\n",
      "0.6347677707672119\n",
      "0.6287432909011841\n",
      "0.6227588057518005\n",
      "0.6168118715286255\n",
      "0.6109002828598022\n",
      "0.6050221920013428\n",
      "0.5991758108139038\n",
      "0.5933594703674316\n",
      "0.5875716805458069\n",
      "0.5818113088607788\n",
      "0.5760769248008728\n",
      "0.570367693901062\n",
      "0.5646827816963196\n",
      "0.5590210556983948\n",
      "0.5533820390701294\n",
      "0.5477650165557861\n",
      "0.542169451713562\n",
      "0.536594808101654\n",
      "0.5310409665107727\n",
      "0.5255072116851807\n",
      "0.5199936628341675\n",
      "0.5144999027252197\n",
      "0.5090257525444031\n",
      "0.5035712718963623\n",
      "0.49813634157180786\n",
      "0.49272096157073975\n",
      "0.48732510209083557\n",
      "0.4819488823413849\n",
      "0.47659239172935486\n",
      "0.4712558686733246\n",
      "0.46593934297561646\n",
      "0.4606429636478424\n",
      "0.4553670287132263\n",
      "0.45011162757873535\n",
      "0.44487667083740234\n",
      "0.43966248631477356\n",
      "0.43446943163871765\n",
      "0.4292979836463928\n",
      "0.4241485893726349\n",
      "0.4190215468406677\n",
      "0.4139173924922943\n",
      "0.4088365137577057\n",
      "0.4037794768810272\n",
      "0.3987465500831604\n",
      "0.39373838901519775\n",
      "0.38875529170036316\n",
      "0.38379785418510437\n",
      "0.3788665235042572\n",
      "0.37396174669265747\n",
      "0.369083970785141\n",
      "0.36423370242118835\n",
      "0.3594113886356354\n",
      "0.35461747646331787\n",
      "0.34985262155532837\n",
      "0.34511709213256836\n",
      "0.34041154384613037\n",
      "0.3357362747192383\n",
      "0.33109188079833984\n",
      "0.3264788091182709\n",
      "0.3218974471092224\n",
      "0.31734830141067505\n",
      "0.3128318190574646\n",
      "0.3083483874797821\n",
      "0.30389854311943054\n",
      "0.2994825839996338\n",
      "0.29510098695755005\n",
      "0.29075413942337036\n",
      "0.2864423990249634\n",
      "0.2821662425994873\n",
      "0.2779259979724884\n",
      "0.2737220525741577\n",
      "0.2695547044277191\n",
      "0.26542431116104126\n",
      "0.2613312304019928\n",
      "0.2572757601737976\n",
      "0.25325822830200195\n",
      "0.2492789328098297\n",
      "0.24533814191818237\n",
      "0.24143610894680023\n",
      "0.23757310211658478\n",
      "0.23374943435192108\n",
      "0.2299652099609375\n",
      "0.2262207567691803\n",
      "0.22251616418361664\n",
      "0.21885168552398682\n",
      "0.21522743999958038\n",
      "0.21164362132549286\n",
      "0.20810039341449738\n",
      "0.20459787547588348\n",
      "0.20113617181777954\n",
      "0.19771547615528107\n",
      "0.19433578848838806\n",
      "0.19099727272987366\n",
      "0.18769994378089905\n",
      "0.1844438910484314\n",
      "0.1812291145324707\n",
      "0.17805571854114532\n",
      "0.17492368817329407\n",
      "0.17183299362659454\n",
      "0.16878367960453033\n",
      "0.16577564179897308\n",
      "0.16280898451805115\n",
      "0.1598835289478302\n",
      "0.15699928998947144\n",
      "0.1541561484336853\n",
      "0.15135405957698822\n",
      "0.14859288930892944\n",
      "0.1458725482225418\n",
      "0.14319290220737457\n",
      "0.14055384695529938\n",
      "0.1379551887512207\n",
      "0.1353967934846878\n",
      "0.13287849724292755\n",
      "0.13040010631084442\n",
      "0.1279614418745041\n",
      "0.12556231021881104\n",
      "0.12320248037576675\n",
      "0.12088175117969513\n",
      "0.11859987676143646\n",
      "0.11635660380125046\n",
      "0.11415168642997742\n",
      "0.11198488622903824\n",
      "0.10985589772462845\n",
      "0.10776445269584656\n",
      "0.10571027547121048\n",
      "0.10369305312633514\n",
      "0.10171250253915787\n",
      "0.0997682586312294\n",
      "0.09786007553339005\n",
      "0.09598755091428757\n",
      "0.09415041655302048\n",
      "0.09234827756881714\n",
      "0.09058081358671188\n",
      "0.08884766697883606\n",
      "0.08714848011732101\n",
      "0.0854828730225563\n",
      "0.08385047316551208\n",
      "0.0822509154677391\n",
      "0.08068381249904633\n",
      "0.0791487768292427\n",
      "0.07764542102813721\n",
      "0.076173335313797\n",
      "0.07473213970661163\n",
      "0.07332142442464828\n",
      "0.07194076478481293\n",
      "0.07058977335691452\n",
      "0.06926804035902023\n",
      "0.06797512620687485\n",
      "0.06671065837144852\n",
      "0.06547418236732483\n",
      "0.06426527351140976\n",
      "0.06308351457118988\n",
      "0.06192851439118385\n",
      "0.06079982966184616\n",
      "0.05969700962305069\n",
      "0.058619651943445206\n",
      "0.057567350566387177\n",
      "0.056539636105298996\n",
      "0.055536139756441116\n",
      "0.054556384682655334\n",
      "0.05359998345375061\n",
      "0.05266647785902023\n",
      "0.05175548046827316\n",
      "0.05086654797196388\n",
      "0.04999927803874016\n",
      "0.04915325716137886\n",
      "0.04832804948091507\n",
      "0.04752326011657715\n",
      "0.04673846811056137\n",
      "0.0459732823073864\n",
      "0.045227281749248505\n",
      "0.04450007528066635\n",
      "0.0437912680208683\n",
      "0.04310045763850212\n",
      "0.042427241802215576\n",
      "0.04177125170826912\n",
      "0.04113209992647171\n",
      "0.04050940275192261\n",
      "0.039902783930301666\n",
      "0.03931187093257904\n",
      "0.03873630240559578\n",
      "0.03817569464445114\n",
      "0.03762971982359886\n",
      "0.0370979905128479\n",
      "0.03658018633723259\n",
      "0.036075931042432785\n",
      "0.03558490797877312\n",
      "0.03510677441954613\n",
      "0.03464119881391525\n",
      "0.03418785706162453\n",
      "0.033746425062417984\n",
      "0.03331659361720085\n",
      "0.03289804980158806\n",
      "0.03249048441648483\n",
      "0.032093595713377\n",
      "0.031707100570201874\n",
      "0.03133070841431618\n",
      "0.030964117497205734\n",
      "0.03060707077383995\n",
      "0.030259273946285248\n",
      "0.029920481145381927\n",
      "0.029590405523777008\n",
      "0.029268817976117134\n",
      "0.02895544469356537\n",
      "0.02865005098283291\n",
      "0.028352392837405205\n",
      "0.028062233701348305\n",
      "0.027779342606663704\n",
      "0.027503490447998047\n",
      "0.027234472334384918\n",
      "0.026972057297825813\n",
      "0.026716049760580063\n",
      "0.02646622620522976\n",
      "0.026222409680485725\n",
      "0.0259843897074461\n",
      "0.025751987472176552\n",
      "0.025525012984871864\n",
      "0.02530328743159771\n",
      "0.025086645036935806\n",
      "0.02487490139901638\n",
      "0.024667903780937195\n",
      "0.024465488269925117\n",
      "0.024267500266432762\n",
      "0.024073783308267593\n",
      "0.02388419769704342\n",
      "0.02369859628379345\n",
      "0.02351684495806694\n",
      "0.023338809609413147\n",
      "0.023164354264736176\n",
      "0.022993365302681923\n",
      "0.022825703024864197\n",
      "0.02266126312315464\n",
      "0.02249993197619915\n",
      "0.022341595962643623\n",
      "0.02218613773584366\n",
      "0.02203347161412239\n",
      "0.021883491426706314\n",
      "0.021736091002821922\n",
      "0.0215911902487278\n",
      "0.02144869603216648\n",
      "0.02130851335823536\n",
      "0.021170569583773613\n",
      "0.02103477716445923\n",
      "0.020901063457131386\n",
      "0.02076934650540352\n",
      "0.020639562979340553\n",
      "0.020511630922555923\n",
      "0.0203854963183403\n",
      "0.020261086523532867\n",
      "0.020138347521424294\n",
      "0.020017217844724655\n",
      "0.019897639751434326\n",
      "0.01977955549955368\n",
      "0.019662920385599136\n",
      "0.019547684118151665\n",
      "0.01943378895521164\n",
      "0.019321201369166374\n",
      "0.01920987293124199\n",
      "0.0190997626632452\n",
      "0.018990833312273026\n",
      "0.018883051350712776\n",
      "0.01877637207508087\n",
      "0.01867077685892582\n",
      "0.018566232174634933\n",
      "0.01846269890666008\n",
      "0.018360162153840065\n",
      "0.01825859025120735\n",
      "0.0181579627096653\n",
      "0.018058257177472115\n",
      "0.01795944944024086\n",
      "0.01786152459681034\n",
      "0.01776445470750332\n",
      "0.017668232321739197\n",
      "0.017572827637195587\n",
      "0.01747824065387249\n",
      "0.017384443432092667\n",
      "0.017291434109210968\n",
      "0.017199186608195305\n",
      "0.01710769720375538\n",
      "0.017016956582665443\n",
      "0.016926946118474007\n",
      "0.01683766208589077\n",
      "0.01674909144639969\n",
      "0.016661226749420166\n",
      "0.016574062407016754\n",
      "0.01648758538067341\n",
      "0.016401784494519234\n",
      "0.016316654160618782\n",
      "0.016232188791036606\n",
      "0.01614837348461151\n",
      "0.01606520637869835\n",
      "0.01598268188536167\n",
      "0.015900786966085434\n",
      "0.015819508582353592\n",
      "0.015738854184746742\n",
      "0.015658799558877945\n",
      "0.015579352155327797\n",
      "0.01550049427896738\n",
      "0.015422218479216099\n",
      "0.015344521030783653\n",
      "0.015267390757799149\n",
      "0.01519082486629486\n",
      "0.01511481124907732\n",
      "0.015039345249533653\n",
      "0.01496442873030901\n",
      "0.014890039339661598\n",
      "0.014816180802881718\n",
      "0.01474284939467907\n",
      "0.014670037664473057\n",
      "0.014597740024328232\n",
      "0.014525947161018848\n",
      "0.014454658143222332\n",
      "0.01438386831432581\n",
      "0.014313571155071259\n",
      "0.014243759214878082\n",
      "0.01417443435639143\n",
      "0.014105590991675854\n",
      "0.014037217944860458\n",
      "0.013969318009912968\n",
      "0.013901878148317337\n",
      "0.01383490301668644\n",
      "0.01376837957650423\n",
      "0.013702310621738434\n",
      "0.013636684976518154\n",
      "0.013571497984230518\n",
      "0.013506748713552952\n",
      "0.013442426919937134\n",
      "0.013378530740737915\n",
      "0.01331505086272955\n",
      "0.013251985423266888\n",
      "0.013189329765737057\n",
      "0.013127078302204609\n",
      "0.013065223582088947\n",
      "0.013003756292164326\n",
      "0.012942682951688766\n",
      "0.012881986796855927\n",
      "0.01282167062163353\n",
      "0.01276172511279583\n",
      "0.012702150270342827\n",
      "0.012642933987081051\n"
     ]
    },
    {
     "name": "stdout",
     "output_type": "stream",
     "text": [
      "0.012584075331687927\n",
      "0.012525573372840881\n",
      "0.01246741134673357\n",
      "0.012409602291882038\n",
      "0.012352130375802517\n",
      "0.012294990941882133\n",
      "0.012238187715411186\n",
      "0.012181705795228481\n",
      "0.012125550769269466\n",
      "0.01206971611827612\n",
      "0.012014195322990417\n",
      "0.011958988383412361\n",
      "0.011904094368219376\n",
      "0.011849499307572842\n",
      "0.011795210652053356\n",
      "0.011741222813725471\n",
      "0.01168753020465374\n",
      "0.011634132824838161\n",
      "0.011581026017665863\n",
      "0.011528206057846546\n",
      "0.01147567480802536\n",
      "0.011423423886299133\n",
      "0.011371457017958164\n",
      "0.011319763958454132\n",
      "0.011268350295722485\n",
      "0.011217208579182625\n",
      "0.011166339740157127\n",
      "0.01111573912203312\n",
      "0.011065404862165451\n",
      "0.011015335097908974\n",
      "0.010965530760586262\n",
      "0.010915989056229591\n",
      "0.010866702534258366\n",
      "0.010817677713930607\n",
      "0.010768905282020569\n",
      "0.010720387101173401\n",
      "0.010672120377421379\n",
      "0.010624103248119354\n",
      "0.01057633850723505\n",
      "0.01052881684154272\n",
      "0.010481542907655239\n",
      "0.010434511117637157\n",
      "0.010387720540165901\n",
      "0.010341173969209194\n",
      "0.010294864885509014\n",
      "0.010248796083033085\n",
      "0.01020296011120081\n",
      "0.010157359763979912\n",
      "0.010111996904015541\n",
      "0.010066865012049675\n",
      "0.010021963156759739\n",
      "0.009977290406823158\n"
     ]
    }
   ],
   "source": [
    "while L > error_tolerance:\n",
    "    # forward pass\n",
    "    y_hat = model(x)\n",
    "    L = torch.mean((y_hat-y)**2)\n",
    "\n",
    "    print(L.item())\n",
    "    \n",
    "    # backward pass\n",
    "    optimizer.zero_grad()\n",
    "    L.backward()\n",
    "        \n",
    "    # update parameters\n",
    "    optimizer.step()    "
   ]
  },
  {
   "cell_type": "code",
   "execution_count": 9,
   "id": "normal-presence",
   "metadata": {},
   "outputs": [
    {
     "data": {
      "image/png": "[encoded data removed]",
      "text/plain": [
       "<Figure size 432x288 with 1 Axes>"
      ]
     },
     "metadata": {
      "needs_background": "light"
     },
     "output_type": "display_data"
    }
   ],
   "source": [
    "# visualize model predictions\n",
    "plt.scatter(x, y, label=\"ground-truth\")\n",
    "plt.scatter(x, y_hat.detach(), label=\"prediction\")\n",
    "plt.legend(loc=\"upper right\")\n",
    "plt.show()"
   ]
  },
  {
   "cell_type": "markdown",
   "id": "needed-preserve",
   "metadata": {},
   "source": [
    "## Harder Example\n",
    "\n",
    "### Dataset\n",
    "Let's collect a dataset of x,y samples where: $$y = sin(x) + \\epsilon$$ \n",
    "\n",
    "$$X = [x_1, x_2, x_3, ..., x_N]^T$$\n",
    "$$Y = [y_1, y_2, y_3, ..., y_N]^T$$ \n",
    "\n",
    "1. xi is a real value, so X has dimensions Nx1\n",
    "2. yi is a real value, so Y has dimensions Nx1\n",
    "3. $\\epsilon \\sim \\mathcal{N}(0,1)$"
   ]
  },
  {
   "cell_type": "code",
   "execution_count": 10,
   "id": "ideal-uncle",
   "metadata": {},
   "outputs": [
    {
     "name": "stdout",
     "output_type": "stream",
     "text": [
      "torch.Size([10000, 1]) torch.Size([10000, 1])\n"
     ]
    }
   ],
   "source": [
    "x = torch.linspace(start=-10, end=10, steps=10000).unsqueeze(1) # 10000 equally spaced values between [-10, 10]\n",
    "y = torch.sin(x) + 0.2*torch.normal(mean=torch.zeros_like(x), std=torch.ones_like(x))\n",
    "\n",
    "print(x.shape, y.shape)"
   ]
  },
  {
   "cell_type": "code",
   "execution_count": 11,
   "id": "internal-armenia",
   "metadata": {},
   "outputs": [
    {
     "data": {
      "image/png": "[encoded data removed]",
      "text/plain": [
       "<Figure size 432x288 with 1 Axes>"
      ]
     },
     "metadata": {
      "needs_background": "light"
     },
     "output_type": "display_data"
    }
   ],
   "source": [
    "plt.scatter(x, y)\n",
    "plt.show()"
   ]
  },
  {
   "cell_type": "markdown",
   "id": "infectious-louisville",
   "metadata": {},
   "source": [
    "Now it's your turn to define and train the model for this new dataset. You can copy code from the previous example.\n",
    "\n",
    "### Model"
   ]
  },
  {
   "cell_type": "code",
   "execution_count": 12,
   "id": "supposed-gazette",
   "metadata": {},
   "outputs": [],
   "source": [
    "# TODO: Define the model, the optimizer and the predictor y_hat"
   ]
  },
  {
   "cell_type": "code",
   "execution_count": 13,
   "id": "improving-hacker",
   "metadata": {},
   "outputs": [],
   "source": [
    "# TODO: plot initial predictions"
   ]
  },
  {
   "cell_type": "markdown",
   "id": "southwest-spending",
   "metadata": {},
   "source": [
    "### Loss"
   ]
  },
  {
   "cell_type": "code",
   "execution_count": 14,
   "id": "duplicate-unknown",
   "metadata": {},
   "outputs": [],
   "source": [
    "# TODO: Define loss and print initial loss"
   ]
  },
  {
   "cell_type": "markdown",
   "id": "alpine-facial",
   "metadata": {},
   "source": [
    "### Optimization \n",
    "Finally, train the model!"
   ]
  },
  {
   "cell_type": "code",
   "execution_count": 15,
   "id": "conscious-departure",
   "metadata": {},
   "outputs": [],
   "source": [
    "# TODO: Train the model"
   ]
  },
  {
   "cell_type": "code",
   "execution_count": 16,
   "id": "contemporary-convenience",
   "metadata": {},
   "outputs": [],
   "source": [
    "# TODO: Visualize model predictions"
   ]
  },
  {
   "cell_type": "markdown",
   "id": "clean-fraction",
   "metadata": {},
   "source": [
    "## Conclusion\n",
    "We have only scratched the surface of deep learning. Try changing the model architecture for better performance!\n",
    "\n",
    "Both PyTorch and Tensorflow help us compute derivatives, which is what we ultimately need to incrementally improve the model through several forward and backward passes. \n",
    "\n",
    "Please check out more information about the different APIs here:\n",
    "\n",
    "PyTorch: https://pytorch.org/tutorials/beginner/blitz/neural_networks_tutorial.html\n",
    "\n",
    "Tensorflow 2: https://www.tensorflow.org/tutorials/quickstart/advanced"
   ]
  }
 ],
 "metadata": {
  "kernelspec": {
   "display_name": "Python 3",
   "language": "python",
   "name": "python3"
  },
  "language_info": {
   "codemirror_mode": {
    "name": "ipython",
    "version": 3
   },
   "file_extension": ".py",
   "mimetype": "text/x-python",
   "name": "python",
   "nbconvert_exporter": "python",
   "pygments_lexer": "ipython3",
   "version": "3.6.12"
  }
 },
 "nbformat": 4,
 "nbformat_minor": 5
}
